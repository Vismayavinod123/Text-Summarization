{
  "nbformat": 4,
  "nbformat_minor": 0,
  "metadata": {
    "colab": {
      "name": "Text Summarization using python",
      "provenance": [],
      "authorship_tag": "ABX9TyOzl6XUS7POWq3fCDm5lFXF",
      "include_colab_link": true
    },
    "kernelspec": {
      "name": "python3",
      "display_name": "Python 3"
    },
    "language_info": {
      "name": "python"
    }
  },
  "cells": [
    {
      "cell_type": "markdown",
      "metadata": {
        "id": "view-in-github",
        "colab_type": "text"
      },
      "source": [
        "<a href=\"https://colab.research.google.com/github/Vismayavinod123/Text-Summarization/blob/main/Text_Summarization_using_python.ipynb\" target=\"_parent\"><img src=\"https://colab.research.google.com/assets/colab-badge.svg\" alt=\"Open In Colab\"/></a>"
      ]
    },
    {
      "cell_type": "code",
      "metadata": {
        "colab": {
          "base_uri": "https://localhost:8080/"
        },
        "id": "sOqR8EOYXWyF",
        "outputId": "7e1efbc0-2afd-44f9-ae7e-58c4160f91a9"
      },
      "source": [
        "import nltk\n",
        "import string\n",
        "from heapq import nlargest\n",
        "nltk.download('stopwords')\n",
        "nltk.download('punkt')"
      ],
      "execution_count": 30,
      "outputs": [
        {
          "output_type": "stream",
          "text": [
            "[nltk_data] Downloading package stopwords to /root/nltk_data...\n",
            "[nltk_data]   Package stopwords is already up-to-date!\n",
            "[nltk_data] Downloading package punkt to /root/nltk_data...\n",
            "[nltk_data]   Unzipping tokenizers/punkt.zip.\n"
          ],
          "name": "stdout"
        },
        {
          "output_type": "execute_result",
          "data": {
            "text/plain": [
              "True"
            ]
          },
          "metadata": {
            "tags": []
          },
          "execution_count": 30
        }
      ]
    },
    {
      "cell_type": "code",
      "metadata": {
        "id": "zRVW7pVRYJWn"
      },
      "source": [
        "text= \"In computer science, a heap is a specialized tree-based data structure which is essentially an almost complete[1] tree that satisfies the heap property: in a max heap, for any given node C, if P is a parent node of C, then the key (the value) of P is greater than or equal to the key of C. In a min heap, the key of P is less than or equal to the key of C.[2] The node at the top of the heap (with no parents) is called the root node.The heap is one maximally efficient implementation of an abstract data type called a priority queue, and in fact, priority queues are often referred to as heaps, regardless of how they may be implemented. In a heap, the highest (or lowest) priority element is always stored at the root. However, a heap is not a sorted structure; it can be regarded as being partially ordered. A heap is a useful data structure when it is necessary to repeatedly remove the object with the highest (or lowest) priority.A common implementation of a heap is the binary heap, in which the tree is a binary tree (see figure). The heap data structure, specifically the binary heap, was introduced by J. W. J. Williams in 1964, as a data structure for the heapsort sorting algorithm.[3] Heaps are also crucial in several efficient graph algorithms such as Dijkstra's algorithm. When a heap is a complete binary tree, it has a smallest possible height—a heap with N nodes and for each node a branches always has loga N height. \"\n",
        "if text.count(\".\") > 20:\n",
        "  length = int(round(text.count(\".\")/10,0))\n",
        "else:\n",
        "  length = 1"
      ],
      "execution_count": 41,
      "outputs": []
    },
    {
      "cell_type": "markdown",
      "metadata": {
        "id": "V319nN0JZ3x5"
      },
      "source": [
        "Remove the alphanumerical character\n"
      ]
    },
    {
      "cell_type": "code",
      "metadata": {
        "id": "g9lLuSuIY6Kj"
      },
      "source": [
        "punch = [char for char in text if char not in string.punctuation]\n",
        "punch = \"\".join(punch)\n"
      ],
      "execution_count": 42,
      "outputs": []
    },
    {
      "cell_type": "markdown",
      "metadata": {
        "id": "Mbuwfrvahyuh"
      },
      "source": [
        "Preprocessing the text"
      ]
    },
    {
      "cell_type": "code",
      "metadata": {
        "id": "0CGPEBuOZ9hy"
      },
      "source": [
        "processed_text = [word for word in punch.split() if word.lower() not in nltk.corpus.stopwords.words('english')]\n",
        "processed_text"
      ],
      "execution_count": null,
      "outputs": []
    },
    {
      "cell_type": "code",
      "metadata": {
        "id": "2FsChh3ScC2M"
      },
      "source": [
        "word_freq = {}\n",
        "for word in processed_text:\n",
        "  if word not in word_freq:\n",
        "    word_freq[word] = 1\n",
        "  else:\n",
        "    word_freq[word] = word_freq[word]+1\n",
        "\n"
      ],
      "execution_count": null,
      "outputs": []
    },
    {
      "cell_type": "code",
      "metadata": {
        "id": "zri2D8SweKNY"
      },
      "source": [
        "max_freq = max(word_freq.values())\n",
        "for word in word_freq.keys():\n",
        "  word_freq[word] = (word_freq[word]/max_freq)\n"
      ],
      "execution_count": 46,
      "outputs": []
    },
    {
      "cell_type": "markdown",
      "metadata": {
        "id": "mbnDCtGVh6KR"
      },
      "source": [
        "Tokenization"
      ]
    },
    {
      "cell_type": "code",
      "metadata": {
        "id": "ajQQNmI8fh2Y"
      },
      "source": [
        "sent_list = nltk.sent_tokenize(text)\n",
        "sent_score = {}\n",
        "for sent in sent_list:\n",
        "  for word in nltk.word_tokenize(sent.lower()):\n",
        "    if word in word_freq.keys():\n",
        "      if sent not in sent_score.keys():\n",
        "        sent_score[sent] = word_freq[word]\n",
        "      else:\n",
        "        sent_score[sent] = sent_score[sent]+word_freq[word]"
      ],
      "execution_count": 47,
      "outputs": []
    },
    {
      "cell_type": "code",
      "metadata": {
        "colab": {
          "base_uri": "https://localhost:8080/"
        },
        "id": "EE3yXyzLgj3m",
        "outputId": "78cffcdc-8487-4954-d244-ef99e5facebc"
      },
      "source": [
        "summary_sents = nlargest(length, sent_score, key=sent_score.get)\n",
        "summary = \" \".join(summary_sents)\n",
        "print(summary)"
      ],
      "execution_count": 48,
      "outputs": [
        {
          "output_type": "stream",
          "text": [
            "In computer science, a heap is a specialized tree-based data structure which is essentially an almost complete[1] tree that satisfies the heap property: in a max heap, for any given node C, if P is a parent node of C, then the key (the value) of P is greater than or equal to the key of C. In a min heap, the key of P is less than or equal to the key of C.[2] The node at the top of the heap (with no parents) is called the root node.The heap is one maximally efficient implementation of an abstract data type called a priority queue, and in fact, priority queues are often referred to as heaps, regardless of how they may be implemented.\n"
          ],
          "name": "stdout"
        }
      ]
    }
  ]
}